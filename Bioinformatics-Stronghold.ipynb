{
 "cells": [
  {
   "cell_type": "markdown",
   "metadata": {},
   "source": [
    "# Bioinformatics Stronghold"
   ]
  },
  {
   "cell_type": "markdown",
   "metadata": {},
   "source": [
    "## Counting DNA Nucleotides"
   ]
  },
  {
   "cell_type": "markdown",
   "metadata": {},
   "source": [
    "**[DNA](https://en.wikipedia.org/wiki/DNA) (or deoxyribonucleic acid)** is the molecule that carries the genetic information in all cellular forms of life and some viruses.\n",
    "It belongs to a class of molecules called the [nucleic acids](https://en.wikipedia.org/wiki/Nucleic_acid), which are polynucleotides - that is, long chains of nucleotides.\n",
    "\n",
    "Each nucleotide consists of three components:\n",
    "\n",
    "* a [nitrogenous base](https://en.wikipedia.org/wiki/Nitrogenous_base): [cytosine](https://en.wikipedia.org/wiki/Cytosine) (C), [guanine](https://en.wikipedia.org/wiki/Guanine) (G), [adenine](https://en.wikipedia.org/wiki/Adenine) (A) or [thymine](https://en.wikipedia.org/wiki/Thymine) (T)\n",
    "* a [5-carbon sugar molecule](https://en.wikipedia.org/wiki/Pentose) (deoxyribose in the case of DNA, ribose in the case of [RNA](https://en.wikipedia.org/wiki/RNA) (ribonucleic acid))\n",
    "* a [phosphate](https://en.wikipedia.org/wiki/Phosphate) molecule\n",
    "\n",
    "The backbone of the polynucleotide is a chain of sugar and phosphate molecules. Each of the sugar groups in this sugar-phosphate backbone is linked to one of the four nitrogenous bases."
   ]
  },
  {
   "attachments": {},
   "cell_type": "markdown",
   "metadata": {},
   "source": [
    "![Image of DNA](https://www2.le.ac.uk/projects/vgec/diagrams/31%20polynucleotide%202.jpg/image_preview)"
   ]
  },
  {
   "cell_type": "markdown",
   "metadata": {},
   "source": [
    "<font size='4'> Problem </font>\n",
    "\n",
    "A string is simply an ordered collection of symbols selected from some alphabet and formed into a word; the length of a string is the number of symbols that it contains.\n",
    "\n",
    "An example of a length 21 DNA string (whose alphabet contains the symbols 'A', 'C', 'G', and 'T') is  <font size='3'>\"ATGCTTCAGAAAGGTCTTACG.\" </font>\n",
    "\n",
    "**Given**: A DNA string s of length at most 1000 nt.\n",
    "\n",
    "**Return**: Four integers (separated by spaces) counting the respective number of times that the symbols 'A', 'C', 'G', and 'T' occur in s."
   ]
  },
  {
   "cell_type": "markdown",
   "metadata": {},
   "source": [
    "<font size='4'> Define functions </font>"
   ]
  },
  {
   "cell_type": "code",
   "execution_count": 1,
   "metadata": {},
   "outputs": [],
   "source": [
    "# Define DNA code\n",
    "dna_code = [\"A\", \"T\", \"C\", \"G\"]\n",
    "\n",
    "# Define a function to validate the given sequence and return one in upper case\n",
    "def valid_seq(seq):\n",
    "    seq = seq.upper()\n",
    "    for index, nuc in enumerate(seq):\n",
    "        if nuc not in dna_code:\n",
    "            print(f'Unhandled nucleotide at position {index}!')\n",
    "    return seq\n",
    "\n",
    "# Define function to return the nucleotide count\n",
    "def nuc_count(seq):\n",
    "    num_A = seq.count(\"A\")\n",
    "    num_C = seq.count(\"C\")\n",
    "    num_G = seq.count(\"G\")\n",
    "    num_T = seq.count(\"T\")\n",
    "    return (num_A, num_C, num_G, num_T)\n",
    "\n",
    "# Alternative function that returns a dictionary with nucleotide count\n",
    "def countNucFrequency(seq):\n",
    "    tmpFreqDict = {\"A\": 0, \"C\": 0, \"G\": 0, \"T\": 0}\n",
    "    for nuc in seq:\n",
    "        tmpFreqDict[nuc] += 1\n",
    "    return tmpFreqDict"
   ]
  },
  {
   "cell_type": "markdown",
   "metadata": {},
   "source": [
    "<font size='4'> Test our functions </font>"
   ]
  },
  {
   "cell_type": "code",
   "execution_count": 2,
   "metadata": {},
   "outputs": [
    {
     "name": "stdout",
     "output_type": "stream",
     "text": [
      "The number of nucleotides (A, C, G, T) is (20, 12, 17, 21)\n",
      "\n",
      "Nucleotide count: {'A': 20, 'C': 12, 'G': 17, 'T': 21}\n"
     ]
    }
   ],
   "source": [
    "# Sample dataset (change first and last character into lower case to check all our functions)\n",
    "dna_string = \"aGCTTTTCATTCTGACTGCAACGGGCAATATGTCTCTGTGTGGATTAAAAAAAGAGTGTCTGATAGCAGc\"\n",
    "\n",
    "# Sample output\n",
    "print(f\"The number of nucleotides (A, C, G, T) is {nuc_count(valid_seq(dna_string))}\")\n",
    "print(f\"\\nNucleotide count: {countNucFrequency(valid_seq(dna_string))}\")"
   ]
  }
 ],
 "metadata": {
  "kernelspec": {
   "display_name": "Python [conda env:Python-Rosalind] *",
   "language": "python",
   "name": "conda-env-Python-Rosalind-py"
  },
  "language_info": {
   "codemirror_mode": {
    "name": "ipython",
    "version": 3
   },
   "file_extension": ".py",
   "mimetype": "text/x-python",
   "name": "python",
   "nbconvert_exporter": "python",
   "pygments_lexer": "ipython3",
   "version": "3.8.3"
  }
 },
 "nbformat": 4,
 "nbformat_minor": 4
}
